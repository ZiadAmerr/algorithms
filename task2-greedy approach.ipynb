{
 "cells": [
  {
   "cell_type": "code",
   "execution_count": 1,
   "metadata": {},
   "outputs": [],
   "source": [
    "def getPossibleMoves(current) :\n",
    "    possibleMoves=[]\n",
    "    if current[1]+2 < 8 and current[1]+2 > -1:\n",
    "        if current[0]+1 < 8:\n",
    "            possibleMoves.append((current[0]+1, current[1]+2))\n",
    "        if current[0]-1 > -1:\n",
    "            possibleMoves.append((current[0]-1, current[1]+2))\n",
    "    if current[0]+2 < 8 and current[0]+2 > -1:\n",
    "        if current[1]+1 < 8:\n",
    "            possibleMoves.append((current[0]+2, current[1]+1))\n",
    "        if current[1]-1 > -1:\n",
    "            possibleMoves.append((current[0]+2, current[1]-1))\n",
    "    if current[1]-2 > -1 and current[1]-2 < 8:\n",
    "        if current[0]+1 < 8:\n",
    "            possibleMoves.append((current[0]+1, current[1]-2))\n",
    "        if current[0]-1 > -1:\n",
    "            possibleMoves.append((current[0]-1, current[1]-2))\n",
    "    if current[0]-2 > -1 and current[0]-2 < 8:\n",
    "        if current[1]+1 < 8:\n",
    "            possibleMoves.append((current[0]-2, current[1]+1))\n",
    "        if current[1]-1 > -1:\n",
    "            possibleMoves.append((current[0]-2, current[1]-1))\n",
    "    return possibleMoves"
   ]
  },
  {
   "cell_type": "code",
   "execution_count": 2,
   "metadata": {},
   "outputs": [],
   "source": [
    "# def findMove(possibleMoves,board) :\n",
    "#     priority = [0,7,1,6,2,5,3,4]\n",
    "#     for x in priority :\n",
    "#         for move in possibleMoves:\n",
    "#             if (move[0] == x or move[1] == x) and board[move[0]][move[1]] ==0 :\n",
    "#                 return move"
   ]
  },
  {
   "cell_type": "code",
   "execution_count": 3,
   "metadata": {},
   "outputs": [],
   "source": [
    "def calculateAvailableNextMoves(current, nextMove, myBoard):\n",
    "    #this function calculates the available moves for each next move from current position so that we select the next position with least available moves\n",
    "    movesCount = 0\n",
    "    temp = myBoard[current[0]][current[1]]\n",
    "    myBoard[current[0]][current[1]] = 1\n",
    "    if nextMove[1]+2 < 8:\n",
    "        if nextMove[0]+1 < 8:\n",
    "            if myBoard[nextMove[0]+1][nextMove[1]+2] == 0:\n",
    "                movesCount += 1\n",
    "        if nextMove[0]-1 > -1:\n",
    "            if myBoard[nextMove[0]-1][nextMove[1]+2] == 0:\n",
    "                movesCount += 1\n",
    "    if nextMove[0]+2 < 8:\n",
    "        if nextMove[1]+1 < 8:\n",
    "            if myBoard[nextMove[0]+2][nextMove[1]+1] == 0:\n",
    "                movesCount += 1\n",
    "        if nextMove[1]-1 > -1:\n",
    "            if myBoard[nextMove[0]+2][nextMove[1]-1] == 0:\n",
    "                movesCount += 1\n",
    "    if nextMove[1]-2 > -1:\n",
    "        if nextMove[0]+1 < 8:\n",
    "            if myBoard[nextMove[0]+1][nextMove[1]-2] == 0:\n",
    "                movesCount += 1\n",
    "        if nextMove[0]-1 > -1:\n",
    "            if myBoard[nextMove[0]-1][nextMove[1]-2] == 0:\n",
    "                movesCount += 1\n",
    "    if nextMove[0]-2 > -1:\n",
    "        if nextMove[1]+1 < 8:\n",
    "            if myBoard[nextMove[0]-2][nextMove[1]+1] == 0:\n",
    "                movesCount += 1\n",
    "        if nextMove[1]-1 > -1:\n",
    "            if myBoard[nextMove[0]-2][nextMove[1]-1] == 0:\n",
    "                movesCount += 1\n",
    "    myBoard[current[0]][current[1]] = temp\n",
    "    return movesCount"
   ]
  },
  {
   "cell_type": "code",
   "execution_count": 4,
   "metadata": {},
   "outputs": [
    {
     "name": "stdout",
     "output_type": "stream",
     "text": [
      "Count=64   n=64\n",
      "[(0, 0), (1, 2), (0, 4), (1, 6), (3, 7), (5, 6), (7, 7), (6, 5), (5, 7), (7, 6), (6, 4), (7, 2), (6, 0), (4, 1), (2, 0), (0, 1), (1, 3), (0, 5), (1, 7), (3, 6), (2, 4), (0, 3), (1, 1), (3, 0), (2, 2), (1, 0), (0, 2), (1, 4), (0, 6), (2, 7), (1, 5), (0, 7), (2, 6), (4, 7), (6, 6), (4, 5), (5, 3), (7, 4), (6, 2), (7, 0), (5, 1), (3, 2), (4, 0), (6, 1), (7, 3), (5, 2), (7, 1), (5, 0), (3, 1), (4, 3), (3, 5), (2, 3), (4, 4), (2, 5), (3, 3), (5, 4), (4, 6), (6, 7), (7, 5), (6, 3), (5, 5), (3, 4), (4, 2), (2, 1)]\n",
      "[[1, 16, 27, 22, 3, 18, 29, 32], [26, 23, 2, 17, 28, 31, 4, 19], [15, 64, 25, 52, 21, 54, 33, 30], [24, 49, 42, 55, 62, 51, 20, 5], [43, 14, 63, 50, 53, 36, 57, 34], [48, 41, 46, 37, 56, 61, 6, 9], [13, 44, 39, 60, 11, 8, 35, 58], [40, 47, 12, 45, 38, 59, 10, 7]]\n"
     ]
    }
   ],
   "source": [
    "# Algorithm depends on selecting the next position by specifying available alternatives, \n",
    "#proceed to a position with the fewest possible choices for the next move.\n",
    "n = 1\n",
    "count = 1\n",
    "board = [[0 for i in range(8)] for j in range(8)]\n",
    "#keep track of sequence of visited squares\n",
    "visited = []\n",
    "###Assumption that the starting is the top left corner in the chess board (in a 2d array its index at 0,0)\n",
    "current = (0, 0)\n",
    "visited.append(current)\n",
    "board[current[0]][current[1]] = n\n",
    "#specify last spot to save to be ending spot\n",
    "lastSpot = (2, 1)\n",
    "\n",
    "# n to check for all board visited\n",
    "while n < 64 and count < 200:\n",
    "    prev = current\n",
    "    possibleMoves=getPossibleMoves(current)\n",
    "\n",
    "    # remove last spot if it exist in next possible moves when this move is not the latest\n",
    "    if lastSpot in possibleMoves and n != 63:\n",
    "        possibleMoves.remove(lastSpot)\n",
    "    movesCount = []\n",
    "    for move in possibleMoves :\n",
    "        if board[move[0]][move[1]] == 0 :\n",
    "            movesCount.append(calculateAvailableNextMoves(current,move,board))\n",
    "        else :\n",
    "            #large number to exclude from selection\n",
    "            movesCount.append(100)\n",
    "    select = movesCount.index(min(movesCount))\n",
    "    current = possibleMoves[select]\n",
    "                    \n",
    "    # end if stuck\n",
    "    if prev == current:\n",
    "        print(\"stop position:\" + str(current))\n",
    "        break\n",
    "    n += 1\n",
    "    board[current[0]][current[1]] = n\n",
    "    visited.append(current)\n",
    "    #end if invalid position\n",
    "    if current[0] < 0 or current[1] < 0:\n",
    "        print(\"Invalid position:\"+str(current))\n",
    "        break\n",
    "    count += 1\n",
    "print(\"Count=\" + str(count)+\"   n=\"+str(n))\n",
    "print(visited)\n",
    "print(board)\n"
   ]
  }
 ],
 "metadata": {
  "kernelspec": {
   "display_name": "Python 3",
   "language": "python",
   "name": "python3"
  },
  "language_info": {
   "codemirror_mode": {
    "name": "ipython",
    "version": 3
   },
   "file_extension": ".py",
   "mimetype": "text/x-python",
   "name": "python",
   "nbconvert_exporter": "python",
   "pygments_lexer": "ipython3",
   "version": "3.11.1"
  },
  "orig_nbformat": 4
 },
 "nbformat": 4,
 "nbformat_minor": 2
}
