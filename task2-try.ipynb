{
 "cells": [
  {
   "cell_type": "code",
   "execution_count": 1,
   "metadata": {},
   "outputs": [],
   "source": [
    "import random"
   ]
  },
  {
   "cell_type": "code",
   "execution_count": 5,
   "metadata": {},
   "outputs": [
    {
     "name": "stdout",
     "output_type": "stream",
     "text": [
      "Count=64   n=64\n",
      "[(0, 0), (1, 2), (0, 4), (1, 6), (2, 4), (0, 3), (1, 5), (0, 7), (2, 6), (0, 5), (1, 7), (2, 5), (0, 6), (1, 4), (0, 2), (1, 0), (2, 2), (0, 1), (1, 3), (2, 1), (3, 3), (4, 5), (3, 7), (5, 6), (3, 5), (2, 7), (4, 6), (3, 4), (4, 2), (2, 3), (1, 1), (3, 0), (5, 1), (3, 2), (4, 4), (3, 6), (5, 5), (4, 7), (6, 6), (5, 4), (6, 2), (4, 1), (2, 0), (5, 3), (6, 5), (5, 7), (7, 6), (6, 4), (4, 3), (3, 1), (5, 0), (7, 1), (5, 2), (4, 0), (6, 1), (7, 3), (6, 0), (7, 2), (6, 3), (7, 5), (6, 7), (7, 7), (7, 4), (7, 0)]\n",
      "[[True, True, True, True, True, True, True, True], [True, True, True, True, True, True, True, True], [True, True, True, True, True, True, True, True], [True, True, True, True, True, True, True, True], [True, True, True, True, True, True, True, True], [True, True, True, True, True, True, True, True], [True, True, True, True, True, True, True, True], [True, True, True, True, True, True, True, True]]\n"
     ]
    }
   ],
   "source": [
    "# required add of condition \"end position is one knight move away from start position\" and use modify to use greedy algorithm approach\n",
    "board = [[False for i in range(8)] for j in range(8)]\n",
    "visited = []\n",
    "current = (0, 0)\n",
    "visited.append(current)\n",
    "board[current[0]][current[1]] = True\n",
    "# print(board)\n",
    "# n to check for all board visited\n",
    "n = 1\n",
    "count = 1\n",
    "possibleMoves = []\n",
    "while n < 64 and count < 100:\n",
    "    prev = current\n",
    "\n",
    "    if current[0]+2 < 8:\n",
    "        if current[1]+1 < 8:\n",
    "            possibleMoves.append((current[0]+2, current[1]+1))\n",
    "\n",
    "        if current[1]-1 > -1:\n",
    "            possibleMoves.append((current[0]+2, current[1]-1))\n",
    "\n",
    "    if current[1]-2 > -1:\n",
    "        if current[0]+1 < 8:\n",
    "            possibleMoves.append((current[0]+1, current[1]-2))\n",
    "        if current[0]-1 > -1:\n",
    "            possibleMoves.append((current[0]-1, current[1]-2))\n",
    "\n",
    "    \n",
    "    if current[1]+2 < 8:\n",
    "        if current[0]+1 < 8 :\n",
    "            possibleMoves.append((current[0]+1, current[1]+2))\n",
    "        if current[0]-1 > -1 :\n",
    "            possibleMoves.append((current[0]-1, current[1]+2))\n",
    "    if current[0]-2 > -1:\n",
    "        if current[1]+1 < 8 :\n",
    "            possibleMoves.append((current[0]-2, current[1]+1))\n",
    "        if current[1]-1 > -1 :\n",
    "            possibleMoves.append((current[0]-2, current[1]-1))\n",
    "\n",
    "\n",
    "    # pick a spot for knight move\n",
    "    for i in range(len(possibleMoves)):\n",
    "        if not board[possibleMoves[i][0]][possibleMoves[i][1]]:\n",
    "            current = possibleMoves[i]\n",
    "    ##pick random spot if all next spots are already visited\n",
    "    if prev == current:\n",
    "        current = possibleMoves[random.uniform(0, len(possibleMoves))]\n",
    "    if board[current[0]][current[1]] == False:\n",
    "        board[current[0]][current[1]] = True\n",
    "        visited.append(current)\n",
    "        n += 1\n",
    "    if current[0] < 0 or current[1] < 0:\n",
    "        print(str(current))\n",
    "        break\n",
    "    # else :\n",
    "    #     found = (7,7)\n",
    "    #     for i in range(8) :\n",
    "    #         for j in range(8) :\n",
    "    #             if board[i][j] == False :\n",
    "    #                 found = ()\n",
    "    count += 1\n",
    "print(\"Count=\" + str(count)+\"   n=\"+str(n))\n",
    "print(visited)\n",
    "print(board)\n"
   ]
  }
 ],
 "metadata": {
  "kernelspec": {
   "display_name": "Python 3",
   "language": "python",
   "name": "python3"
  },
  "language_info": {
   "codemirror_mode": {
    "name": "ipython",
    "version": 3
   },
   "file_extension": ".py",
   "mimetype": "text/x-python",
   "name": "python",
   "nbconvert_exporter": "python",
   "pygments_lexer": "ipython3",
   "version": "3.11.1"
  },
  "orig_nbformat": 4
 },
 "nbformat": 4,
 "nbformat_minor": 2
}
